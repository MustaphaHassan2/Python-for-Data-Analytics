{
 "cells": [
  {
   "cell_type": "markdown",
   "metadata": {},
   "source": [
    "If statement"
   ]
  },
  {
   "cell_type": "code",
   "execution_count": 3,
   "metadata": {},
   "outputs": [
    {
     "name": "stdout",
     "output_type": "stream",
     "text": [
      "Yes It is\n"
     ]
    }
   ],
   "source": [
    "car = 'BMW'\n",
    "if car == 'BMW' :\n",
    "    print ('Yes It is')"
   ]
  },
  {
   "cell_type": "code",
   "execution_count": null,
   "metadata": {},
   "outputs": [],
   "source": [
    "car = 'BMW'\n",
    "if True:\n",
    "    print ('Yes')"
   ]
  },
  {
   "cell_type": "code",
   "execution_count": null,
   "metadata": {},
   "outputs": [],
   "source": [
    "Car = 'BMW'\n",
    "if car:\n",
    "    print ('yes')"
   ]
  },
  {
   "cell_type": "code",
   "execution_count": null,
   "metadata": {},
   "outputs": [],
   "source": [
    "age = int(input('How old are you?'))\n",
    "if 60 >= float(age) > 30:\n",
    "    print ('You still Young mann')\n",
    "elif age < 30:\n",
    "    print ('You are so young')\n",
    "else:\n",
    "    print ('Sorry, you are a bit old')"
   ]
  },
  {
   "cell_type": "code",
   "execution_count": null,
   "metadata": {},
   "outputs": [],
   "source": [
    "age = int(input('How old are you?'))\n",
    "if 60 >= age >= 25:\n",
    "    print ('You are still young mann!!')\n",
    "elif age < 25:\n",
    "    print ('You are a bit younger than we need')\n",
    "else:\n",
    "    print ('A bit older than we need, sorry!!')        "
   ]
  },
  {
   "cell_type": "code",
   "execution_count": null,
   "metadata": {},
   "outputs": [],
   "source": [
    "Mobile_price = int(input('What is the price you need'))\n",
    "if 10000 >= Mobile_price >= 5000:\n",
    "    print ('Samsong, HTCS, Huawi, Xaumi, Sony')\n",
    "elif Mobile_price < 5000:\n",
    "    print ('Nokia')\n",
    "else:\n",
    "    print ('iPhone')        "
   ]
  },
  {
   "cell_type": "code",
   "execution_count": null,
   "metadata": {},
   "outputs": [],
   "source": [
    "price = int(input(' What is the price you need?'))\n",
    "if 15000 >= price >= 7500:\n",
    "    print ('Samsung, Xaumi, Huawi, HTCS, Relmea, Sony')\n",
    "elif 7500 > price > 5000:\n",
    "    print ('Sony')\n",
    "elif price < 5000:\n",
    "    print ('Nokia') \n",
    "else:\n",
    "    print ('iPhone')            "
   ]
  },
  {
   "cell_type": "code",
   "execution_count": null,
   "metadata": {},
   "outputs": [],
   "source": [
    "price = int(input('What is the price do you want?'))\n",
    "if 20000>= price >= 12500:\n",
    "    print  ('Xaomi, HTCS, Infinx, Huawi, Sony')\n",
    "elif 12500 > price >= 7500:\n",
    "    print ('Xaomi, HTCS, Infinx, Huawi, Relmea, Oppo, Redmei')\n",
    "elif price < 7500:\n",
    "    print ('Nokia')\n",
    "else:\n",
    "    print ('iPhone')            "
   ]
  },
  {
   "cell_type": "markdown",
   "metadata": {},
   "source": [
    "Variable Scope"
   ]
  },
  {
   "cell_type": "code",
   "execution_count": null,
   "metadata": {},
   "outputs": [],
   "source": [
    "def greet ():\n",
    "    name = 'Omaran'\n",
    "    print (f\"Hello, {name}\")\n",
    "greet()    "
   ]
  },
  {
   "cell_type": "markdown",
   "metadata": {},
   "source": [
    "Anonymous Functions (Lambda)"
   ]
  },
  {
   "cell_type": "code",
   "execution_count": null,
   "metadata": {},
   "outputs": [],
   "source": [
    "add = lambda a, b : a +b\n",
    "print(add(5,16))"
   ]
  },
  {
   "cell_type": "markdown",
   "metadata": {},
   "source": [
    "Higher-Order Functions"
   ]
  },
  {
   "cell_type": "code",
   "execution_count": null,
   "metadata": {},
   "outputs": [],
   "source": [
    "numbers = [1, 3, 4, 6, 8, 9]\n",
    "squared = list(map(lambda x: x**2, numbers))\n",
    "print (squared)"
   ]
  },
  {
   "cell_type": "code",
   "execution_count": null,
   "metadata": {},
   "outputs": [],
   "source": [
    "numbers = [1, 3, 4, 6, 7, 9]\n",
    "even_numbers = list(filter(lambda x: x % 2 == 0, numbers))\n",
    "print (even_numbers)"
   ]
  },
  {
   "cell_type": "code",
   "execution_count": null,
   "metadata": {},
   "outputs": [],
   "source": [
    "numbers = [1, 5, 7, 8, 10, 11, 15]\n",
    "odd_numbers = list(filter(lambda x: x % 1 == 0, numbers))\n",
    "print(odd_numbers)"
   ]
  },
  {
   "cell_type": "code",
   "execution_count": null,
   "metadata": {},
   "outputs": [],
   "source": [
    "Iterators"
   ]
  },
  {
   "cell_type": "code",
   "execution_count": null,
   "metadata": {},
   "outputs": [],
   "source": [
    "numbers = [1, 3, 4, 6, 7]\n",
    "it = iter(numbers)\n",
    "\n",
    "print (next(it))\n",
    "print (next(it))"
   ]
  },
  {
   "cell_type": "markdown",
   "metadata": {},
   "source": [
    "Generators"
   ]
  },
  {
   "cell_type": "code",
   "execution_count": null,
   "metadata": {},
   "outputs": [],
   "source": [
    "def countdoun (n):\n",
    "    while n > 0:\n",
    "        yield n\n",
    "        n -= 1\n",
    "for number in countdoun(5):\n",
    "    print(number)        \n"
   ]
  },
  {
   "cell_type": "code",
   "execution_count": null,
   "metadata": {},
   "outputs": [],
   "source": [
    "def countdoun (R):\n",
    "    while R > 3:\n",
    "        yield R\n",
    "        R -= 2\n",
    "\n",
    "for number in countdoun(12):\n",
    "    print (number)\n"
   ]
  },
  {
   "cell_type": "code",
   "execution_count": 4,
   "metadata": {},
   "outputs": [
    {
     "name": "stdout",
     "output_type": "stream",
     "text": [
      "21\n",
      "14\n",
      "7\n"
     ]
    }
   ],
   "source": [
    "def countdoun(a):\n",
    "    while 4 <= a <= 100:\n",
    "        yield a\n",
    "        a -= 7\n",
    "for number in countdoun (21):\n",
    "    print(number)         "
   ]
  },
  {
   "cell_type": "code",
   "execution_count": null,
   "metadata": {},
   "outputs": [],
   "source": [
    "try:\n",
    "    result = 10 / 2\n",
    "    print (result)\n",
    "except ZeroDivisionError:\n",
    "    print(\"You can't divide by zero!\")"
   ]
  },
  {
   "cell_type": "code",
   "execution_count": null,
   "metadata": {},
   "outputs": [],
   "source": [
    "try:\n",
    "    result = 10 / 0\n",
    "except ZeroDivisionError:\n",
    "    print(\"You can't divide by zero!\")"
   ]
  },
  {
   "cell_type": "code",
   "execution_count": 2,
   "metadata": {},
   "outputs": [
    {
     "name": "stdout",
     "output_type": "stream",
     "text": [
      "2.0\n",
      "It will always run\n"
     ]
    }
   ],
   "source": [
    "try:\n",
    "    result = 10 / 5\n",
    "except ZeroDivisionError:\n",
    "    print (\"You can not dive by zero\")\n",
    "else:\n",
    "    print (result)\n",
    "finally:\n",
    "    print ('It will always run')"
   ]
  },
  {
   "cell_type": "code",
   "execution_count": 1,
   "metadata": {},
   "outputs": [
    {
     "data": {
      "text/plain": [
       "True"
      ]
     },
     "execution_count": 1,
     "metadata": {},
     "output_type": "execute_result"
    }
   ],
   "source": [
    "def check_age(age):\n",
    "    if age <= 18:\n",
    "        raise ValueError ('age must be 18 at least')\n",
    "    return True\n",
    "check_age(22)"
   ]
  },
  {
   "cell_type": "markdown",
   "metadata": {},
   "source": [
    "List Comprehensions"
   ]
  },
  {
   "cell_type": "code",
   "execution_count": 5,
   "metadata": {},
   "outputs": [
    {
     "name": "stdout",
     "output_type": "stream",
     "text": [
      "[0, 1, 4, 9, 16]\n"
     ]
    }
   ],
   "source": [
    "squares = [x**2 for x in range (5)]\n",
    "print (squares)"
   ]
  },
  {
   "cell_type": "code",
   "execution_count": 7,
   "metadata": {},
   "outputs": [
    {
     "name": "stdout",
     "output_type": "stream",
     "text": [
      "{0: 0, 1: 1, 2: 4, 3: 9, 4: 16}\n"
     ]
    }
   ],
   "source": [
    "squares_dict = {x: x**2 for x in range (5)}\n",
    "print (squares_dict)"
   ]
  },
  {
   "cell_type": "markdown",
   "metadata": {},
   "source": [
    "Lambda Functions"
   ]
  },
  {
   "cell_type": "code",
   "execution_count": 1,
   "metadata": {},
   "outputs": [
    {
     "name": "stdout",
     "output_type": "stream",
     "text": [
      "6\n"
     ]
    }
   ],
   "source": [
    "add = (lambda a, b : a + b)\n",
    "print (add(1, 5))"
   ]
  },
  {
   "cell_type": "code",
   "execution_count": 2,
   "metadata": {},
   "outputs": [
    {
     "name": "stdout",
     "output_type": "stream",
     "text": [
      "14\n"
     ]
    }
   ],
   "source": [
    "add = (lambda x, y : x * y)\n",
    "print (add(2,7))"
   ]
  },
  {
   "cell_type": "markdown",
   "metadata": {},
   "source": [
    "Sorting Data"
   ]
  },
  {
   "cell_type": "code",
   "execution_count": 10,
   "metadata": {},
   "outputs": [
    {
     "name": "stdout",
     "output_type": "stream",
     "text": [
      "   ProductID  SalesAmount Region\n",
      "1        102          150  South\n",
      "0        101          200  North\n",
      "3        104          300   East\n",
      "2        103          400   West\n"
     ]
    }
   ],
   "source": [
    "import pandas as pd\n",
    "\n",
    "data = {\n",
    "    \"ProductID\": [101, 102, 103, 104],\n",
    "    \"SalesAmount\": [200, 150, 400, 300],\n",
    "    \"Region\": [\"North\", \"South\", \"West\", \"East\"]\n",
    "}\n",
    "\n",
    "df = pd.DataFrame(data)\n",
    "sorted_df = df.sort_values(by ='SalesAmount')\n",
    "print(sorted_df)"
   ]
  },
  {
   "cell_type": "markdown",
   "metadata": {},
   "source": [
    "Filtering Data"
   ]
  },
  {
   "cell_type": "markdown",
   "metadata": {},
   "source": [
    "Boolean Indexing (>, <, ==, etc.)"
   ]
  },
  {
   "cell_type": "code",
   "execution_count": 7,
   "metadata": {},
   "outputs": [
    {
     "name": "stdout",
     "output_type": "stream",
     "text": [
      "   ProductID  SalesAmount Region\n",
      "0        101          200  North\n",
      "2        103          400   West\n",
      "3        104          300   East\n"
     ]
    }
   ],
   "source": [
    "filtered_df = df[df['SalesAmount'] >= 200]\n",
    "print(filtered_df)"
   ]
  },
  {
   "cell_type": "code",
   "execution_count": 8,
   "metadata": {},
   "outputs": [
    {
     "name": "stdout",
     "output_type": "stream",
     "text": [
      "   ProductID  SalesAmount Region\n",
      "2        103          400   West\n"
     ]
    }
   ],
   "source": [
    "filtered_dt = df[(df['SalesAmount'] > 200) & (df['Region'] == 'West')]\n",
    "print(filtered_dt)"
   ]
  },
  {
   "cell_type": "markdown",
   "metadata": {},
   "source": [
    "Filtering Using isin()"
   ]
  },
  {
   "cell_type": "code",
   "execution_count": 9,
   "metadata": {},
   "outputs": [
    {
     "name": "stdout",
     "output_type": "stream",
     "text": [
      "   ProductID  SalesAmount Region\n",
      "0        101          200  North\n",
      "2        103          400   West\n"
     ]
    }
   ],
   "source": [
    "data_filtered = df[df['Region'].isin(['West', 'North'])]\n",
    "print (data_filtered)"
   ]
  },
  {
   "cell_type": "markdown",
   "metadata": {},
   "source": [
    "Filtering with query()"
   ]
  },
  {
   "cell_type": "code",
   "execution_count": 10,
   "metadata": {},
   "outputs": [
    {
     "name": "stdout",
     "output_type": "stream",
     "text": [
      "   ProductID  SalesAmount Region\n",
      "2        103          400   West\n"
     ]
    }
   ],
   "source": [
    "dataframe_filtered = df.query('SalesAmount > 200 and Region == \"West\"')\n",
    "print (dataframe_filtered)"
   ]
  },
  {
   "cell_type": "markdown",
   "metadata": {},
   "source": [
    "Applying Functions to Data"
   ]
  },
  {
   "cell_type": "code",
   "execution_count": 17,
   "metadata": {},
   "outputs": [
    {
     "name": "stdout",
     "output_type": "stream",
     "text": [
      "   ProductID  SalesAmount Region  SalesWithTax   Sale  Black_Friday_sale\n",
      "0        101          200  North         220.0  220.0              150.0\n",
      "1        102          150  South         165.0  165.0              112.5\n",
      "2        103          400   West         440.0  440.0              300.0\n",
      "3        104          300   East         330.0  330.0              225.0\n"
     ]
    }
   ],
   "source": [
    "def add_sale(sales):\n",
    "    return sales * .75\n",
    "\n",
    "df['Black_Friday_sale'] = df['SalesAmount'].apply(add_sale)\n",
    "print(df)"
   ]
  },
  {
   "cell_type": "markdown",
   "metadata": {},
   "source": [
    "Aggregation with groupby()"
   ]
  },
  {
   "cell_type": "code",
   "execution_count": 20,
   "metadata": {},
   "outputs": [
    {
     "name": "stdout",
     "output_type": "stream",
     "text": [
      "Region\n",
      "East     300\n",
      "North    200\n",
      "South    150\n",
      "West     400\n",
      "Name: SalesAmount, dtype: int64\n"
     ]
    }
   ],
   "source": [
    "data_grouped = df.groupby('Region')['SalesAmount'].sum()\n",
    "print(data_grouped)"
   ]
  },
  {
   "cell_type": "markdown",
   "metadata": {},
   "source": [
    "Handling Duplicates"
   ]
  },
  {
   "cell_type": "code",
   "execution_count": 24,
   "metadata": {},
   "outputs": [
    {
     "name": "stdout",
     "output_type": "stream",
     "text": [
      "0    False\n",
      "1    False\n",
      "2    False\n",
      "3    False\n",
      "dtype: bool\n"
     ]
    }
   ],
   "source": [
    "duplicates = df.duplicated()\n",
    "print(duplicates)"
   ]
  },
  {
   "cell_type": "code",
   "execution_count": 25,
   "metadata": {},
   "outputs": [
    {
     "name": "stdout",
     "output_type": "stream",
     "text": [
      "   ProductID  SalesAmount Region  SalesWithTax   Sale  Black_Friday_sale\n",
      "0        101          200  North         220.0  220.0              150.0\n",
      "1        102          150  South         165.0  165.0              112.5\n",
      "2        103          400   West         440.0  440.0              300.0\n",
      "3        104          300   East         330.0  330.0              225.0\n"
     ]
    }
   ],
   "source": [
    "no_df_duplicates = df.drop_duplicates('Region')\n",
    "print(no_df_duplicates)"
   ]
  },
  {
   "cell_type": "markdown",
   "metadata": {},
   "source": [
    "Basic Statistical Operations"
   ]
  },
  {
   "cell_type": "code",
   "execution_count": 27,
   "metadata": {},
   "outputs": [
    {
     "name": "stdout",
     "output_type": "stream",
     "text": [
      "262.5\n"
     ]
    }
   ],
   "source": [
    "df_mean = df['SalesAmount'].mean()\n",
    "print(df_mean)"
   ]
  },
  {
   "cell_type": "code",
   "execution_count": null,
   "metadata": {},
   "outputs": [
    {
     "name": "stdout",
     "output_type": "stream",
     "text": [
      "        ProductID  SalesAmount  SalesWithTax        Sale  Black_Friday_sale\n",
      "count    4.000000     4.000000      4.000000    4.000000           4.000000\n",
      "mean   102.500000   262.500000    288.750000  288.750000         196.875000\n",
      "std      1.290994   110.867789    121.954568  121.954568          83.150842\n",
      "min    101.000000   150.000000    165.000000  165.000000         112.500000\n",
      "25%    101.750000   187.500000    206.250000  206.250000         140.625000\n",
      "50%    102.500000   250.000000    275.000000  275.000000         187.500000\n",
      "75%    103.250000   325.000000    357.500000  357.500000         243.750000\n",
      "max    104.000000   400.000000    440.000000  440.000000         300.000000\n"
     ]
    }
   ],
   "source": [
    "print (df.describe())"
   ]
  },
  {
   "cell_type": "code",
   "execution_count": 31,
   "metadata": {},
   "outputs": [
    {
     "name": "stdout",
     "output_type": "stream",
     "text": [
      "1050\n"
     ]
    }
   ],
   "source": [
    "total_sales = df['SalesAmount'].sum()\n",
    "print(total_sales)"
   ]
  },
  {
   "cell_type": "markdown",
   "metadata": {},
   "source": [
    "Identifying Missing Data"
   ]
  },
  {
   "cell_type": "code",
   "execution_count": 2,
   "metadata": {},
   "outputs": [
    {
     "name": "stdout",
     "output_type": "stream",
     "text": [
      "   ProductID  SalesAmount  Region\n",
      "0      False        False   False\n",
      "1      False        False   False\n",
      "2      False        False   False\n",
      "3      False        False   False\n"
     ]
    }
   ],
   "source": [
    "print (df.isnull())"
   ]
  },
  {
   "cell_type": "code",
   "execution_count": 6,
   "metadata": {},
   "outputs": [
    {
     "name": "stdout",
     "output_type": "stream",
     "text": [
      "ProductID      0\n",
      "SalesAmount    0\n",
      "Region         0\n",
      "dtype: int64\n"
     ]
    }
   ],
   "source": [
    "print (df.isnull().sum())"
   ]
  },
  {
   "cell_type": "code",
   "execution_count": 8,
   "metadata": {},
   "outputs": [
    {
     "name": "stdout",
     "output_type": "stream",
     "text": [
      "   ProductID  SalesAmount Region\n",
      "0        101        200.0  North\n",
      "1        102          NaN  South\n",
      "2        103        400.0   None\n",
      "3        104        300.0   East\n"
     ]
    }
   ],
   "source": [
    "data1 = {\n",
    "    \"ProductID\": [101, 102, 103, 104],\n",
    "    \"SalesAmount\": [200, None, 400, 300],\n",
    "    \"Region\": [\"North\", \"South\", None, \"East\"]\n",
    "}\n",
    "\n",
    "dt = pd.DataFrame(data1)\n",
    "print (dt)"
   ]
  },
  {
   "cell_type": "code",
   "execution_count": 9,
   "metadata": {},
   "outputs": [
    {
     "name": "stdout",
     "output_type": "stream",
     "text": [
      "   ProductID  SalesAmount  Region\n",
      "0      False        False   False\n",
      "1      False         True   False\n",
      "2      False        False    True\n",
      "3      False        False   False\n"
     ]
    }
   ],
   "source": [
    "print (dt.isnull())"
   ]
  },
  {
   "cell_type": "markdown",
   "metadata": {},
   "source": [
    "Removing Missing Data"
   ]
  },
  {
   "cell_type": "code",
   "execution_count": 11,
   "metadata": {},
   "outputs": [
    {
     "name": "stdout",
     "output_type": "stream",
     "text": [
      "   ProductID  SalesAmount Region\n",
      "0        101        200.0  North\n",
      "3        104        300.0   East\n"
     ]
    }
   ],
   "source": [
    "dt_cleaned = dt.dropna()\n",
    "print (dt_cleaned)"
   ]
  },
  {
   "cell_type": "code",
   "execution_count": 12,
   "metadata": {},
   "outputs": [
    {
     "name": "stdout",
     "output_type": "stream",
     "text": [
      "   ProductID\n",
      "0        101\n",
      "1        102\n",
      "2        103\n",
      "3        104\n"
     ]
    }
   ],
   "source": [
    "dt_column = dt.dropna(axis = 1)\n",
    "print (dt_column)"
   ]
  },
  {
   "cell_type": "markdown",
   "metadata": {},
   "source": [
    "Controlling the Threshold with thresh"
   ]
  },
  {
   "cell_type": "code",
   "execution_count": 14,
   "metadata": {},
   "outputs": [
    {
     "name": "stdout",
     "output_type": "stream",
     "text": [
      "   ProductID  SalesAmount Region\n",
      "0        101          200  North\n",
      "1        102          150  South\n",
      "2        103          400   West\n",
      "3        104          300   East\n"
     ]
    }
   ],
   "source": [
    "df_thresh = df.dropna(thresh = 2)\n",
    "print (df_thresh)"
   ]
  },
  {
   "cell_type": "markdown",
   "metadata": {},
   "source": [
    "Imputing Missing Data"
   ]
  },
  {
   "cell_type": "code",
   "execution_count": 16,
   "metadata": {},
   "outputs": [
    {
     "name": "stdout",
     "output_type": "stream",
     "text": [
      "0    200\n",
      "1    150\n",
      "2    400\n",
      "3    300\n",
      "Name: SalesAmount, dtype: int64\n"
     ]
    }
   ],
   "source": [
    "mean_df = df['SalesAmount'].mean()\n",
    "filled_df = df['SalesAmount'].fillna(mean_df)\n",
    "print(filled_df)"
   ]
  },
  {
   "cell_type": "code",
   "execution_count": 18,
   "metadata": {},
   "outputs": [
    {
     "name": "stdout",
     "output_type": "stream",
     "text": [
      "   ProductID  SalesAmount Region\n",
      "0        101          200  North\n",
      "1        102          150  South\n",
      "2        103          400   West\n",
      "3        104          300   East\n"
     ]
    }
   ],
   "source": [
    "df_filled_backward = df.fillna(method='bfill')\n",
    "print (df_filled_backward)"
   ]
  },
  {
   "cell_type": "markdown",
   "metadata": {},
   "source": [
    "Advanced Imputation Techniques: Interpolation"
   ]
  },
  {
   "cell_type": "code",
   "execution_count": 20,
   "metadata": {},
   "outputs": [
    {
     "name": "stdout",
     "output_type": "stream",
     "text": [
      "0    200\n",
      "1    150\n",
      "2    400\n",
      "3    300\n",
      "Name: SalesAmount, dtype: int64\n"
     ]
    }
   ],
   "source": [
    "df_interpolation = df['SalesAmount'].interpolate()\n",
    "print (df_interpolation)"
   ]
  },
  {
   "cell_type": "markdown",
   "metadata": {},
   "source": [
    "jupyter notebook --port=8890"
   ]
  },
  {
   "cell_type": "code",
   "execution_count": 1,
   "metadata": {},
   "outputs": [],
   "source": [
    "import pandas as pd\n",
    "\n",
    "df1 = pd.DataFrame({\n",
    "    'ProductID': [101, 102, 103],\n",
    "    'SalesAmount': [200, 150, 400]\n",
    "})\n",
    "\n",
    "df2 = pd.DataFrame({\n",
    "    'ProductID': [102, 103, 104],\n",
    "    'Region': ['North', 'South', 'East']\n",
    "})"
   ]
  },
  {
   "cell_type": "markdown",
   "metadata": {},
   "source": [
    "Merging DataFrames"
   ]
  },
  {
   "cell_type": "code",
   "execution_count": 2,
   "metadata": {},
   "outputs": [
    {
     "name": "stdout",
     "output_type": "stream",
     "text": [
      "   ProductID  SalesAmount Region\n",
      "0        102          150  North\n",
      "1        103          400  South\n"
     ]
    }
   ],
   "source": [
    "merged_df = pd.merge(df1, df2, on='ProductID', how='inner')\n",
    "print(merged_df)"
   ]
  },
  {
   "cell_type": "code",
   "execution_count": 4,
   "metadata": {},
   "outputs": [
    {
     "name": "stdout",
     "output_type": "stream",
     "text": [
      "   ProductID  SalesAmount Region\n",
      "0        102          150  North\n",
      "1        103          400  South\n"
     ]
    }
   ],
   "source": [
    "import pandas as pd\n",
    "merged_df_inner = pd.merge(df1, df2, on = 'ProductID', how= 'inner')\n",
    "print(merged_df_inner)"
   ]
  },
  {
   "cell_type": "code",
   "execution_count": 5,
   "metadata": {},
   "outputs": [
    {
     "name": "stdout",
     "output_type": "stream",
     "text": [
      "   ProductID  SalesAmount Region\n",
      "0        101          200    NaN\n",
      "1        102          150  North\n",
      "2        103          400  South\n"
     ]
    }
   ],
   "source": [
    "import pandas as pd\n",
    "merged_df_left = pd.merge(df1, df2, on = 'ProductID', how= 'left')\n",
    "print(merged_df_left)"
   ]
  },
  {
   "cell_type": "code",
   "execution_count": 6,
   "metadata": {},
   "outputs": [
    {
     "name": "stdout",
     "output_type": "stream",
     "text": [
      "   ProductID  SalesAmount Region\n",
      "0        102        150.0  North\n",
      "1        103        400.0  South\n",
      "2        104          NaN   East\n"
     ]
    }
   ],
   "source": [
    "import pandas as pd\n",
    "merged_df_right = pd.merge(df1, df2, on = 'ProductID', how= 'right')\n",
    "print(merged_df_right)"
   ]
  },
  {
   "cell_type": "markdown",
   "metadata": {},
   "source": [
    "Concatenating DataFrames"
   ]
  },
  {
   "cell_type": "code",
   "execution_count": 7,
   "metadata": {},
   "outputs": [],
   "source": [
    "df3 = pd.DataFrame ({\n",
    "    'ProductID': [105, 106],\n",
    "    'SalesAmount': [250, 350]\n",
    "})"
   ]
  },
  {
   "cell_type": "code",
   "execution_count": 8,
   "metadata": {},
   "outputs": [
    {
     "name": "stdout",
     "output_type": "stream",
     "text": [
      "   ProductID  SalesAmount\n",
      "0        101          200\n",
      "1        102          150\n",
      "2        103          400\n",
      "3        105          250\n",
      "4        106          350\n"
     ]
    }
   ],
   "source": [
    "concatenated_df = pd.concat([df1, df3], ignore_index = True)\n",
    "print(concatenated_df)"
   ]
  },
  {
   "cell_type": "markdown",
   "metadata": {},
   "source": [
    "joining DataFrame"
   ]
  },
  {
   "cell_type": "code",
   "execution_count": 2,
   "metadata": {},
   "outputs": [
    {
     "name": "stdout",
     "output_type": "stream",
     "text": [
      "           SalesAmount Region\n",
      "ProductID                    \n",
      "102                150  North\n",
      "103                400  South\n"
     ]
    }
   ],
   "source": [
    "df1.set_index('ProductID', inplace =True)\n",
    "df2.set_index('ProductID', inplace = True)\n",
    "\n",
    "df_joined = df1.join(df2, how= 'inner')\n",
    "print(df_joined)"
   ]
  },
  {
   "cell_type": "markdown",
   "metadata": {},
   "source": [
    "Reshaping DataFrames"
   ]
  },
  {
   "cell_type": "code",
   "execution_count": 3,
   "metadata": {},
   "outputs": [],
   "source": [
    "data = {\n",
    "    \"Date\": [\"2024-01-01\", \"2024-01-01\", \"2024-01-02\", \"2024-01-02\"],\n",
    "    \"Product\": [\"A\", \"B\", \"A\", \"B\"],\n",
    "    \"SalesAmount\": [100, 200, 150, 250]\n",
    "}"
   ]
  },
  {
   "cell_type": "code",
   "execution_count": 4,
   "metadata": {},
   "outputs": [],
   "source": [
    "dt = pd.DataFrame(data)"
   ]
  },
  {
   "cell_type": "code",
   "execution_count": 6,
   "metadata": {},
   "outputs": [
    {
     "name": "stdout",
     "output_type": "stream",
     "text": [
      "Product       A    B\n",
      "Date                \n",
      "2024-01-01  100  200\n",
      "2024-01-02  150  250\n"
     ]
    }
   ],
   "source": [
    "dt_pivot = dt.pivot(index = 'Date', columns = 'Product', values = 'SalesAmount')\n",
    "print (dt_pivot)"
   ]
  },
  {
   "cell_type": "markdown",
   "metadata": {},
   "source": [
    "Stacking and Unstacking"
   ]
  },
  {
   "cell_type": "code",
   "execution_count": 7,
   "metadata": {},
   "outputs": [],
   "source": [
    "df_multi = pd.DataFrame({\n",
    "    ('Region', 'North'): [200, 300],\n",
    "    ('Region', 'South'): [150, 400]\n",
    "}, index=['Product1', 'Product2'])"
   ]
  },
  {
   "cell_type": "code",
   "execution_count": 8,
   "metadata": {},
   "outputs": [
    {
     "name": "stdout",
     "output_type": "stream",
     "text": [
      "         Region      \n",
      "          North South\n",
      "Product1    200   150\n",
      "Product2    300   400\n"
     ]
    }
   ],
   "source": [
    "df_stack = df_multi.stack()\n",
    "print(df_multi)"
   ]
  },
  {
   "cell_type": "markdown",
   "metadata": {},
   "source": [
    "Pivoting and Melting Data"
   ]
  },
  {
   "cell_type": "code",
   "execution_count": 12,
   "metadata": {},
   "outputs": [
    {
     "name": "stdout",
     "output_type": "stream",
     "text": [
      "Region      East  North  South   West\n",
      "ProductID                            \n",
      "101          NaN  200.0    NaN    NaN\n",
      "102          NaN    NaN  150.0    NaN\n",
      "103          NaN    NaN    NaN  400.0\n",
      "104        300.0    NaN    NaN    NaN\n"
     ]
    }
   ],
   "source": [
    "df_pivot_table = pd.pivot_table(df, values='SalesAmount', index='ProductID', columns='Region', aggfunc='sum')\n",
    "print(df_pivot_table)"
   ]
  },
  {
   "cell_type": "markdown",
   "metadata": {},
   "source": [
    "What is a NumPy Array?"
   ]
  },
  {
   "cell_type": "code",
   "execution_count": 1,
   "metadata": {},
   "outputs": [],
   "source": [
    "import numpy as np"
   ]
  },
  {
   "cell_type": "code",
   "execution_count": 2,
   "metadata": {},
   "outputs": [
    {
     "name": "stdout",
     "output_type": "stream",
     "text": [
      "[1 2 3 4 5]\n",
      "[[1 2 3]\n",
      " [4 5 6]]\n"
     ]
    }
   ],
   "source": [
    "# Create a 1D array\n",
    "arr_1d = np.array([1, 2, 3, 4, 5])\n",
    "\n",
    "# Create a 2D array\n",
    "arr_2d = np.array([[1, 2, 3], [4, 5, 6]])\n",
    "\n",
    "print(arr_1d)\n",
    "print(arr_2d)"
   ]
  },
  {
   "cell_type": "markdown",
   "metadata": {},
   "source": [
    "Arithmetic Operations"
   ]
  },
  {
   "cell_type": "code",
   "execution_count": 3,
   "metadata": {},
   "outputs": [
    {
     "name": "stdout",
     "output_type": "stream",
     "text": [
      "[ 6  7  8 11]\n"
     ]
    }
   ],
   "source": [
    "arr = np.array([1, 2, 3, 6])\n",
    "arr_add = arr + 5\n",
    "print (arr_add)"
   ]
  },
  {
   "cell_type": "code",
   "execution_count": 4,
   "metadata": {},
   "outputs": [
    {
     "name": "stdout",
     "output_type": "stream",
     "text": [
      "1\n"
     ]
    }
   ],
   "source": [
    "# Access specific elements\n",
    "print (arr[0])"
   ]
  },
  {
   "cell_type": "code",
   "execution_count": 5,
   "metadata": {},
   "outputs": [
    {
     "name": "stdout",
     "output_type": "stream",
     "text": [
      "[3 6]\n"
     ]
    }
   ],
   "source": [
    "# for the 2d array\n",
    "print (arr_2d[:, 2])"
   ]
  },
  {
   "cell_type": "code",
   "execution_count": 6,
   "metadata": {},
   "outputs": [
    {
     "name": "stdout",
     "output_type": "stream",
     "text": [
      "[1 2 3]\n"
     ]
    }
   ],
   "source": [
    "print (arr_2d[0, :])"
   ]
  },
  {
   "cell_type": "markdown",
   "metadata": {},
   "source": [
    "Broadcasting"
   ]
  },
  {
   "cell_type": "code",
   "execution_count": 9,
   "metadata": {},
   "outputs": [
    {
     "name": "stdout",
     "output_type": "stream",
     "text": [
      "[[11 12 13]\n",
      " [21 22 23]\n",
      " [31 32 33]]\n"
     ]
    }
   ],
   "source": [
    "arr_1 = np.array([1, 2, 3])\n",
    "arr_2 = np.array([[10], [20], [30]])\n",
    "\n",
    "result = arr_1 + arr_2\n",
    "print (result)"
   ]
  },
  {
   "cell_type": "code",
   "execution_count": 13,
   "metadata": {},
   "outputs": [
    {
     "name": "stdout",
     "output_type": "stream",
     "text": [
      "[[10 20 30]\n",
      " [20 40 60]\n",
      " [30 60 90]]\n"
     ]
    }
   ],
   "source": [
    "result2 = arr_1 * arr_2\n",
    "print (result2)"
   ]
  },
  {
   "cell_type": "markdown",
   "metadata": {},
   "source": [
    "Common Functions and Methods"
   ]
  },
  {
   "cell_type": "code",
   "execution_count": 15,
   "metadata": {},
   "outputs": [
    {
     "name": "stdout",
     "output_type": "stream",
     "text": [
      "3.0\n",
      "12\n"
     ]
    }
   ],
   "source": [
    "mean_val = np.mean(arr)\n",
    "sum_val = np.sum(arr)\n",
    "print (mean_val)\n",
    "print (sum_val)"
   ]
  },
  {
   "cell_type": "markdown",
   "metadata": {},
   "source": [
    "Reshaping Arrays"
   ]
  },
  {
   "cell_type": "code",
   "execution_count": 20,
   "metadata": {},
   "outputs": [],
   "source": [
    "arr = np.array([1, 2, 3, 4, 5, 6])"
   ]
  },
  {
   "cell_type": "code",
   "execution_count": 21,
   "metadata": {},
   "outputs": [
    {
     "name": "stdout",
     "output_type": "stream",
     "text": [
      "[[1 2 3]\n",
      " [4 5 6]]\n"
     ]
    }
   ],
   "source": [
    "arr_reshaped = arr.reshape(2, 3)\n",
    "print (arr_reshaped)"
   ]
  },
  {
   "cell_type": "markdown",
   "metadata": {},
   "source": [
    "Generating Random Numbers"
   ]
  },
  {
   "cell_type": "code",
   "execution_count": 22,
   "metadata": {},
   "outputs": [
    {
     "name": "stdout",
     "output_type": "stream",
     "text": [
      "[[0.77752637 0.52811159 0.10450507]\n",
      " [0.15894264 0.27180292 0.31291016]\n",
      " [0.19665938 0.59609144 0.34129462]]\n",
      "[[3 4 5]\n",
      " [6 8 2]]\n"
     ]
    }
   ],
   "source": [
    "# Generate an array of random numbers between 0 and 1\n",
    "random_arr = np.random.rand(3, 3)\n",
    "print(random_arr)\n",
    "\n",
    "# Generate random integers\n",
    "random_ints = np.random.randint(1, 10, size=(2, 3))\n",
    "print(random_ints)"
   ]
  },
  {
   "cell_type": "markdown",
   "metadata": {},
   "source": [
    "Summary Statistics Using Pandas"
   ]
  },
  {
   "cell_type": "code",
   "execution_count": 23,
   "metadata": {},
   "outputs": [
    {
     "name": "stdout",
     "output_type": "stream",
     "text": [
      "        ProductID  SalesAmount\n",
      "count    4.000000     4.000000\n",
      "mean   102.500000   262.500000\n",
      "std      1.290994   110.867789\n",
      "min    101.000000   150.000000\n",
      "25%    101.750000   187.500000\n",
      "50%    102.500000   250.000000\n",
      "75%    103.250000   325.000000\n",
      "max    104.000000   400.000000\n"
     ]
    }
   ],
   "source": [
    "import pandas as pd\n",
    "\n",
    "# Sample DataFrame\n",
    "data = {\n",
    "    \"ProductID\": [101, 102, 103, 104],\n",
    "    \"SalesAmount\": [200, 150, 400, 300],\n",
    "    \"Region\": [\"North\", \"South\", \"West\", \"East\"]\n",
    "}\n",
    "\n",
    "df = pd.DataFrame(data)\n",
    "\n",
    "summery = df.describe()\n",
    "print(summery)"
   ]
  },
  {
   "cell_type": "markdown",
   "metadata": {},
   "source": [
    "Visualizing Data Distributions"
   ]
  }
 ],
 "metadata": {
  "kernelspec": {
   "display_name": "Python 3",
   "language": "python",
   "name": "python3"
  },
  "language_info": {
   "codemirror_mode": {
    "name": "ipython",
    "version": 3
   },
   "file_extension": ".py",
   "mimetype": "text/x-python",
   "name": "python",
   "nbconvert_exporter": "python",
   "pygments_lexer": "ipython3",
   "version": "3.11.1"
  }
 },
 "nbformat": 4,
 "nbformat_minor": 2
}
